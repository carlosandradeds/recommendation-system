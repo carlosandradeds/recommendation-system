{
 "cells": [
  {
   "cell_type": "markdown",
   "id": "b3b0bcdc",
   "metadata": {},
   "source": [
    "# 0.0 Imports"
   ]
  },
  {
   "cell_type": "code",
   "execution_count": 1,
   "id": "cc34bec2",
   "metadata": {
    "ExecuteTime": {
     "end_time": "2022-10-09T13:03:55.982698Z",
     "start_time": "2022-10-09T13:03:48.315785Z"
    }
   },
   "outputs": [],
   "source": [
    "import warnings\n",
    "warnings.filterwarnings('ignore')\n",
    "\n",
    "import inflection\n",
    "\n",
    "import pandas               as pd\n",
    "import seaborn              as sns\n",
    "import numpy                as np\n",
    "import plotly.express       as px\n",
    "import plotly.graph_objects as Go\n",
    "\n",
    "from plotly.subplots       import make_subplots\n",
    "from IPython.core.display  import HTML\n",
    "from matplotlib            import pyplot as plt\n",
    "from scipy.sparse          import csc_matrix\n",
    "from sklearn.neighbors     import NearestNeighbors"
   ]
  },
  {
   "cell_type": "markdown",
   "id": "9a3e5990",
   "metadata": {},
   "source": [
    "## 0.1 Helper Functions"
   ]
  },
  {
   "cell_type": "code",
   "execution_count": 2,
   "id": "f4868adb",
   "metadata": {
    "ExecuteTime": {
     "end_time": "2022-10-09T13:03:55.998690Z",
     "start_time": "2022-10-09T13:03:55.985696Z"
    }
   },
   "outputs": [],
   "source": [
    "#pd.set_option('display.max_rows', 100)\n",
    "#pd.set_option('display.max_columns', 100)\n",
    "\n",
    "#plt.rcParams['figure.figsize'] = (15,6)\n",
    "\n",
    "\n",
    "def jupyter_settings():\n",
    "        %matplotlib inline\n",
    "        \n",
    "        plt.style.use('bmh')\n",
    "        plt.rcParams['figure.figsize'] = [25 , 12]\n",
    "        plt.rcParams['font.size'] = 24\n",
    "        \n",
    "        display( HTML( '<style>.container { width:100% !important; }</style>') )\n",
    "        pd.options.display.max_columns = None\n",
    "        pd.options.display.max_rows = None\n",
    "        pd.set_option( 'display.expand_frame_repr', False )\n",
    "        \n",
    "        sns.set()"
   ]
  },
  {
   "cell_type": "markdown",
   "id": "9a135e92",
   "metadata": {},
   "source": [
    "## 0.2 Loading Data"
   ]
  },
  {
   "cell_type": "code",
   "execution_count": 3,
   "id": "d3064350",
   "metadata": {
    "ExecuteTime": {
     "end_time": "2022-10-09T13:04:00.614685Z",
     "start_time": "2022-10-09T13:03:57.193720Z"
    }
   },
   "outputs": [],
   "source": [
    "df_books = pd.read_csv('data/Books.csv')\n",
    "df_ratings = pd.read_csv('data/Ratings.csv')\n",
    "df_users = pd.read_csv('data/Users.csv')"
   ]
  },
  {
   "cell_type": "markdown",
   "id": "247fc82f",
   "metadata": {},
   "source": [
    "# 1.0 Descrição dos Dados"
   ]
  },
  {
   "cell_type": "markdown",
   "id": "1a3fe222",
   "metadata": {},
   "source": [
    "## 1.1 Merge datasets"
   ]
  },
  {
   "cell_type": "code",
   "execution_count": 4,
   "id": "892f324d",
   "metadata": {
    "ExecuteTime": {
     "end_time": "2022-10-09T13:04:01.323511Z",
     "start_time": "2022-10-09T13:04:00.617684Z"
    }
   },
   "outputs": [],
   "source": [
    "df1 = df_books.merge(df_ratings, how='inner', on='ISBN')"
   ]
  },
  {
   "cell_type": "code",
   "execution_count": 5,
   "id": "26b90a4e",
   "metadata": {
    "ExecuteTime": {
     "end_time": "2022-10-09T13:04:02.190644Z",
     "start_time": "2022-10-09T13:04:01.325510Z"
    }
   },
   "outputs": [],
   "source": [
    "df1 = df1.merge(df_users, how='inner', on='User-ID')"
   ]
  },
  {
   "cell_type": "markdown",
   "id": "ac40cb75",
   "metadata": {},
   "source": [
    "## 1.2 Rename Columns"
   ]
  },
  {
   "cell_type": "code",
   "execution_count": 6,
   "id": "7bd1bb59",
   "metadata": {
    "ExecuteTime": {
     "end_time": "2022-10-09T13:04:02.206636Z",
     "start_time": "2022-10-09T13:04:02.193643Z"
    }
   },
   "outputs": [
    {
     "data": {
      "text/plain": [
       "Index(['ISBN', 'Book-Title', 'Book-Author', 'Year-Of-Publication', 'Publisher',\n",
       "       'Image-URL-S', 'Image-URL-M', 'Image-URL-L', 'User-ID', 'Book-Rating',\n",
       "       'Location', 'Age'],\n",
       "      dtype='object')"
      ]
     },
     "execution_count": 6,
     "metadata": {},
     "output_type": "execute_result"
    }
   ],
   "source": [
    "df1.columns"
   ]
  },
  {
   "cell_type": "code",
   "execution_count": 7,
   "id": "95c91842",
   "metadata": {
    "ExecuteTime": {
     "end_time": "2022-10-09T13:04:02.222626Z",
     "start_time": "2022-10-09T13:04:02.209634Z"
    }
   },
   "outputs": [],
   "source": [
    "colds_old = ['ISBN', 'Book-Title', 'Book-Author', 'Year-Of-Publication', 'Publisher',\n",
    "             'Image-URL-S', 'Image-URL-M', 'Image-URL-L', 'User-ID', 'Book-Rating',\n",
    "             'Location', 'Age']\n",
    "\n",
    "snakecase = lambda x: inflection.underscore(x)\n",
    "\n",
    "cols_new = list(map(snakecase, colds_old))\n",
    "\n",
    "#rename\n",
    "df1.columns = cols_new"
   ]
  },
  {
   "cell_type": "markdown",
   "id": "4f14f893",
   "metadata": {},
   "source": [
    "## 1.3 Data Dimensions"
   ]
  },
  {
   "cell_type": "code",
   "execution_count": 8,
   "id": "acbc766e",
   "metadata": {
    "ExecuteTime": {
     "end_time": "2022-10-09T13:04:02.238616Z",
     "start_time": "2022-10-09T13:04:02.225628Z"
    }
   },
   "outputs": [
    {
     "name": "stdout",
     "output_type": "stream",
     "text": [
      "Number of Rows: 1031136\n",
      "Number of Cols: 12\n"
     ]
    }
   ],
   "source": [
    "print( 'Number of Rows: {}'.format(df1.shape[0]))\n",
    "print( 'Number of Cols: {}'.format(df1.shape[1]))"
   ]
  },
  {
   "cell_type": "markdown",
   "id": "e2b5cd8e",
   "metadata": {},
   "source": [
    "## 1.4 Data Types"
   ]
  },
  {
   "cell_type": "code",
   "execution_count": 9,
   "id": "5b40788d",
   "metadata": {
    "ExecuteTime": {
     "end_time": "2022-10-09T13:04:02.254606Z",
     "start_time": "2022-10-09T13:04:02.240614Z"
    }
   },
   "outputs": [
    {
     "data": {
      "text/plain": [
       "isbn                    object\n",
       "book_title              object\n",
       "book_author             object\n",
       "year_of_publication     object\n",
       "publisher               object\n",
       "image_url_s             object\n",
       "image_url_m             object\n",
       "image_url_l             object\n",
       "user_id                  int64\n",
       "book_rating              int64\n",
       "location                object\n",
       "age                    float64\n",
       "dtype: object"
      ]
     },
     "execution_count": 9,
     "metadata": {},
     "output_type": "execute_result"
    }
   ],
   "source": [
    "df1.dtypes"
   ]
  },
  {
   "cell_type": "markdown",
   "id": "618be2d7",
   "metadata": {},
   "source": [
    "## 1.5 Check NA"
   ]
  },
  {
   "cell_type": "code",
   "execution_count": 10,
   "id": "77646438",
   "metadata": {
    "ExecuteTime": {
     "end_time": "2022-10-09T13:04:03.782662Z",
     "start_time": "2022-10-09T13:04:02.257604Z"
    }
   },
   "outputs": [
    {
     "data": {
      "text/plain": [
       "isbn                        0\n",
       "book_title                  0\n",
       "book_author                 1\n",
       "year_of_publication         0\n",
       "publisher                   2\n",
       "image_url_s                 0\n",
       "image_url_m                 0\n",
       "image_url_l                 4\n",
       "user_id                     0\n",
       "book_rating                 0\n",
       "location                    0\n",
       "age                    277835\n",
       "dtype: int64"
      ]
     },
     "execution_count": 10,
     "metadata": {},
     "output_type": "execute_result"
    }
   ],
   "source": [
    "df1.isna().sum()"
   ]
  },
  {
   "cell_type": "markdown",
   "id": "558d5542",
   "metadata": {},
   "source": [
    "## 1.6 Change Dtypes"
   ]
  },
  {
   "cell_type": "code",
   "execution_count": 11,
   "id": "d03c32a0",
   "metadata": {
    "ExecuteTime": {
     "end_time": "2022-10-09T13:04:04.191411Z",
     "start_time": "2022-10-09T13:04:03.785666Z"
    }
   },
   "outputs": [],
   "source": [
    "df1['year_of_publication'] = df1['year_of_publication'].apply(lambda x: 0 if x == 'Gallimard' else 0 \n",
    "                                                                       if x == 'DK Publishing Inc'  else x)"
   ]
  },
  {
   "cell_type": "code",
   "execution_count": 12,
   "id": "3eefd75d",
   "metadata": {
    "ExecuteTime": {
     "end_time": "2022-10-09T13:04:04.286372Z",
     "start_time": "2022-10-09T13:04:04.196408Z"
    }
   },
   "outputs": [],
   "source": [
    "df1['year_of_publication'] = df1['year_of_publication'].astype('int64')"
   ]
  },
  {
   "cell_type": "markdown",
   "id": "0609e8c4",
   "metadata": {},
   "source": [
    "## 1.7 Descriptive Statistics"
   ]
  },
  {
   "cell_type": "code",
   "execution_count": 13,
   "id": "1433ff7c",
   "metadata": {
    "ExecuteTime": {
     "end_time": "2022-10-09T13:04:04.302368Z",
     "start_time": "2022-10-09T13:04:04.288369Z"
    }
   },
   "outputs": [],
   "source": [
    "num_attributes = df1.select_dtypes(include=['int64', 'int32', 'float64'])\n",
    "cat_attributes = df1.select_dtypes(exclude=['int64', 'float64', 'int32', 'datetime64[ns]'])"
   ]
  },
  {
   "cell_type": "code",
   "execution_count": 14,
   "id": "0acdc379",
   "metadata": {
    "ExecuteTime": {
     "end_time": "2022-10-09T13:04:05.304750Z",
     "start_time": "2022-10-09T13:04:04.305366Z"
    }
   },
   "outputs": [
    {
     "data": {
      "text/html": [
       "<div>\n",
       "<style scoped>\n",
       "    .dataframe tbody tr th:only-of-type {\n",
       "        vertical-align: middle;\n",
       "    }\n",
       "\n",
       "    .dataframe tbody tr th {\n",
       "        vertical-align: top;\n",
       "    }\n",
       "\n",
       "    .dataframe thead th {\n",
       "        text-align: right;\n",
       "    }\n",
       "</style>\n",
       "<table border=\"1\" class=\"dataframe\">\n",
       "  <thead>\n",
       "    <tr style=\"text-align: right;\">\n",
       "      <th></th>\n",
       "      <th>attributes,</th>\n",
       "      <th>min</th>\n",
       "      <th>max</th>\n",
       "      <th>range</th>\n",
       "      <th>mean</th>\n",
       "      <th>median</th>\n",
       "      <th>std</th>\n",
       "      <th>skew</th>\n",
       "      <th>kurtosis</th>\n",
       "    </tr>\n",
       "  </thead>\n",
       "  <tbody>\n",
       "    <tr>\n",
       "      <th>0</th>\n",
       "      <td>year_of_publication</td>\n",
       "      <td>0.0</td>\n",
       "      <td>2050.0</td>\n",
       "      <td>2050.0</td>\n",
       "      <td>1968.187280</td>\n",
       "      <td>1997.0</td>\n",
       "      <td>231.133434</td>\n",
       "      <td>-8.389403</td>\n",
       "      <td>68.455203</td>\n",
       "    </tr>\n",
       "    <tr>\n",
       "      <th>1</th>\n",
       "      <td>user_id</td>\n",
       "      <td>2.0</td>\n",
       "      <td>278854.0</td>\n",
       "      <td>278852.0</td>\n",
       "      <td>140594.503506</td>\n",
       "      <td>141210.0</td>\n",
       "      <td>80524.619993</td>\n",
       "      <td>-0.023980</td>\n",
       "      <td>-1.226564</td>\n",
       "    </tr>\n",
       "    <tr>\n",
       "      <th>2</th>\n",
       "      <td>book_rating</td>\n",
       "      <td>0.0</td>\n",
       "      <td>10.0</td>\n",
       "      <td>10.0</td>\n",
       "      <td>2.839051</td>\n",
       "      <td>0.0</td>\n",
       "      <td>3.854155</td>\n",
       "      <td>0.752419</td>\n",
       "      <td>-1.215034</td>\n",
       "    </tr>\n",
       "    <tr>\n",
       "      <th>3</th>\n",
       "      <td>age</td>\n",
       "      <td>0.0</td>\n",
       "      <td>244.0</td>\n",
       "      <td>244.0</td>\n",
       "      <td>37.397648</td>\n",
       "      <td>NaN</td>\n",
       "      <td>14.098245</td>\n",
       "      <td>2.788844</td>\n",
       "      <td>27.435143</td>\n",
       "    </tr>\n",
       "  </tbody>\n",
       "</table>\n",
       "</div>"
      ],
      "text/plain": [
       "           attributes,  min       max     range           mean    median  \\\n",
       "0  year_of_publication  0.0    2050.0    2050.0    1968.187280    1997.0   \n",
       "1              user_id  2.0  278854.0  278852.0  140594.503506  141210.0   \n",
       "2          book_rating  0.0      10.0      10.0       2.839051       0.0   \n",
       "3                  age  0.0     244.0     244.0      37.397648       NaN   \n",
       "\n",
       "            std      skew   kurtosis  \n",
       "0    231.133434 -8.389403  68.455203  \n",
       "1  80524.619993 -0.023980  -1.226564  \n",
       "2      3.854155  0.752419  -1.215034  \n",
       "3     14.098245  2.788844  27.435143  "
      ]
     },
     "execution_count": 14,
     "metadata": {},
     "output_type": "execute_result"
    }
   ],
   "source": [
    "#Central Tendency - mean, median\n",
    "ct1 = pd.DataFrame(num_attributes.apply(np.mean)).T\n",
    "ct2 = pd.DataFrame(num_attributes.apply(np.median)).T\n",
    "\n",
    "#dispersion - std, min, max, range, skew, kurtosis\n",
    "d1 = pd.DataFrame(num_attributes.apply(np.std)).T\n",
    "d2 = pd.DataFrame(num_attributes.apply(min)).T\n",
    "d3 = pd.DataFrame(num_attributes.apply(max)).T\n",
    "d4 = pd.DataFrame(num_attributes.apply(lambda x: x.max() - x.min())).T\n",
    "d5 = pd.DataFrame(num_attributes.apply(lambda x: x.skew())).T\n",
    "d6 = pd.DataFrame(num_attributes.apply(lambda x: x.kurtosis())).T\n",
    "                  \n",
    "#concat\n",
    "m1 = pd.concat([d2, d3, d4, ct1, ct2, d1, d5, d6]).T.reset_index()\n",
    "m1.columns = ['attributes,', 'min', 'max', 'range', 'mean', 'median', 'std', 'skew', 'kurtosis']\n",
    "m1 "
   ]
  },
  {
   "cell_type": "markdown",
   "id": "9f0117eb",
   "metadata": {},
   "source": [
    "# 2.0 Feature Engineering"
   ]
  },
  {
   "cell_type": "code",
   "execution_count": 15,
   "id": "22c1b4ad",
   "metadata": {
    "ExecuteTime": {
     "end_time": "2022-10-09T13:04:05.714614Z",
     "start_time": "2022-10-09T13:04:05.307747Z"
    }
   },
   "outputs": [],
   "source": [
    "df2 = df1.copy()"
   ]
  },
  {
   "cell_type": "markdown",
   "id": "dc80dad3",
   "metadata": {},
   "source": [
    "## 2.1 Country Extract"
   ]
  },
  {
   "cell_type": "code",
   "execution_count": 16,
   "id": "80928621",
   "metadata": {
    "ExecuteTime": {
     "end_time": "2022-10-09T13:04:10.105910Z",
     "start_time": "2022-10-09T13:04:05.716614Z"
    }
   },
   "outputs": [],
   "source": [
    "df2['country'] = df2['location'].str.extract('([^, ]+$)', expand=True)"
   ]
  },
  {
   "cell_type": "markdown",
   "id": "a0cbbb7d",
   "metadata": {},
   "source": [
    "## 2.2 Age Group"
   ]
  },
  {
   "cell_type": "code",
   "execution_count": 17,
   "id": "6dfea938",
   "metadata": {
    "ExecuteTime": {
     "end_time": "2022-10-09T13:04:10.422733Z",
     "start_time": "2022-10-09T13:04:10.107904Z"
    }
   },
   "outputs": [],
   "source": [
    "df2['age_group'] = df2['age'].apply(lambda x: 'young' if (x >= 18 ) & (x < 35) else 'adult' \n",
    "                                                                       if (x >= 35 ) & (x < 65) else 'senior' if (x >= 65) else 'NaN')"
   ]
  },
  {
   "cell_type": "markdown",
   "id": "73e93772",
   "metadata": {},
   "source": [
    "# 3.0 Data Filtering"
   ]
  },
  {
   "cell_type": "markdown",
   "id": "21dc173d",
   "metadata": {},
   "source": [
    "## 3.1 Book Rating Filter"
   ]
  },
  {
   "cell_type": "code",
   "execution_count": 18,
   "id": "eee736ca",
   "metadata": {
    "ExecuteTime": {
     "end_time": "2022-10-09T13:04:10.769595Z",
     "start_time": "2022-10-09T13:04:10.424495Z"
    }
   },
   "outputs": [],
   "source": [
    "df3 = df2[df2['book_rating'] > 0]"
   ]
  },
  {
   "cell_type": "code",
   "execution_count": 19,
   "id": "11c320d8",
   "metadata": {
    "ExecuteTime": {
     "end_time": "2022-10-09T13:04:10.784613Z",
     "start_time": "2022-10-09T13:04:10.771595Z"
    }
   },
   "outputs": [
    {
     "data": {
      "text/plain": [
       "(383842, 14)"
      ]
     },
     "execution_count": 19,
     "metadata": {},
     "output_type": "execute_result"
    }
   ],
   "source": [
    "df3.shape"
   ]
  },
  {
   "cell_type": "markdown",
   "id": "122afca4",
   "metadata": {},
   "source": [
    "## 3.1 Age Filter"
   ]
  },
  {
   "cell_type": "code",
   "execution_count": 20,
   "id": "1e302eaf",
   "metadata": {
    "ExecuteTime": {
     "end_time": "2022-10-09T13:04:10.876556Z",
     "start_time": "2022-10-09T13:04:10.786612Z"
    }
   },
   "outputs": [
    {
     "data": {
      "text/html": [
       "<div>\n",
       "<style scoped>\n",
       "    .dataframe tbody tr th:only-of-type {\n",
       "        vertical-align: middle;\n",
       "    }\n",
       "\n",
       "    .dataframe tbody tr th {\n",
       "        vertical-align: top;\n",
       "    }\n",
       "\n",
       "    .dataframe thead th {\n",
       "        text-align: right;\n",
       "    }\n",
       "</style>\n",
       "<table border=\"1\" class=\"dataframe\">\n",
       "  <thead>\n",
       "    <tr style=\"text-align: right;\">\n",
       "      <th></th>\n",
       "      <th>year_of_publication</th>\n",
       "      <th>user_id</th>\n",
       "      <th>book_rating</th>\n",
       "      <th>age</th>\n",
       "    </tr>\n",
       "  </thead>\n",
       "  <tbody>\n",
       "    <tr>\n",
       "      <th>count</th>\n",
       "      <td>383842.000000</td>\n",
       "      <td>383842.000000</td>\n",
       "      <td>383842.000000</td>\n",
       "      <td>269621.000000</td>\n",
       "    </tr>\n",
       "    <tr>\n",
       "      <th>mean</th>\n",
       "      <td>1965.631557</td>\n",
       "      <td>136031.461260</td>\n",
       "      <td>7.626701</td>\n",
       "      <td>36.835829</td>\n",
       "    </tr>\n",
       "    <tr>\n",
       "      <th>std</th>\n",
       "      <td>243.241671</td>\n",
       "      <td>80482.299401</td>\n",
       "      <td>1.841339</td>\n",
       "      <td>13.753045</td>\n",
       "    </tr>\n",
       "    <tr>\n",
       "      <th>min</th>\n",
       "      <td>0.000000</td>\n",
       "      <td>8.000000</td>\n",
       "      <td>1.000000</td>\n",
       "      <td>0.000000</td>\n",
       "    </tr>\n",
       "    <tr>\n",
       "      <th>25%</th>\n",
       "      <td>1992.000000</td>\n",
       "      <td>67591.000000</td>\n",
       "      <td>7.000000</td>\n",
       "      <td>28.000000</td>\n",
       "    </tr>\n",
       "    <tr>\n",
       "      <th>50%</th>\n",
       "      <td>1997.000000</td>\n",
       "      <td>133789.000000</td>\n",
       "      <td>8.000000</td>\n",
       "      <td>35.000000</td>\n",
       "    </tr>\n",
       "    <tr>\n",
       "      <th>75%</th>\n",
       "      <td>2001.000000</td>\n",
       "      <td>206219.000000</td>\n",
       "      <td>9.000000</td>\n",
       "      <td>45.000000</td>\n",
       "    </tr>\n",
       "    <tr>\n",
       "      <th>max</th>\n",
       "      <td>2050.000000</td>\n",
       "      <td>278854.000000</td>\n",
       "      <td>10.000000</td>\n",
       "      <td>244.000000</td>\n",
       "    </tr>\n",
       "  </tbody>\n",
       "</table>\n",
       "</div>"
      ],
      "text/plain": [
       "       year_of_publication        user_id    book_rating            age\n",
       "count        383842.000000  383842.000000  383842.000000  269621.000000\n",
       "mean           1965.631557  136031.461260       7.626701      36.835829\n",
       "std             243.241671   80482.299401       1.841339      13.753045\n",
       "min               0.000000       8.000000       1.000000       0.000000\n",
       "25%            1992.000000   67591.000000       7.000000      28.000000\n",
       "50%            1997.000000  133789.000000       8.000000      35.000000\n",
       "75%            2001.000000  206219.000000       9.000000      45.000000\n",
       "max            2050.000000  278854.000000      10.000000     244.000000"
      ]
     },
     "execution_count": 20,
     "metadata": {},
     "output_type": "execute_result"
    }
   ],
   "source": [
    "df3.describe()"
   ]
  },
  {
   "cell_type": "markdown",
   "id": "f34c2c88",
   "metadata": {},
   "source": [
    "# 4.0 EDA"
   ]
  },
  {
   "cell_type": "code",
   "execution_count": 21,
   "id": "f6ff8c2b",
   "metadata": {
    "ExecuteTime": {
     "end_time": "2022-10-09T13:04:10.936520Z",
     "start_time": "2022-10-09T13:04:10.878558Z"
    }
   },
   "outputs": [],
   "source": [
    "df4 = df3.copy()"
   ]
  },
  {
   "cell_type": "markdown",
   "id": "ff67b308",
   "metadata": {},
   "source": [
    "## 4.1 Univariate Analysis"
   ]
  },
  {
   "cell_type": "markdown",
   "id": "939bd80e",
   "metadata": {},
   "source": [
    "### 4.1.1 Book Rating "
   ]
  },
  {
   "cell_type": "code",
   "execution_count": 22,
   "id": "47c1d5f4",
   "metadata": {
    "ExecuteTime": {
     "end_time": "2022-10-09T13:04:11.162306Z",
     "start_time": "2022-10-09T13:04:10.938518Z"
    }
   },
   "outputs": [
    {
     "data": {
      "text/plain": [
       "<AxesSubplot: xlabel='book_rating'>"
      ]
     },
     "execution_count": 22,
     "metadata": {},
     "output_type": "execute_result"
    },
    {
     "data": {
      "image/png": "[encoded data removed]",
      "text/plain": [
       "<Figure size 432x288 with 1 Axes>"
      ]
     },
     "metadata": {
      "needs_background": "light"
     },
     "output_type": "display_data"
    }
   ],
   "source": [
    "sns.boxplot(data=df4, x='book_rating')"
   ]
  },
  {
   "cell_type": "markdown",
   "id": "d6b98ee4",
   "metadata": {},
   "source": [
    "### 4.1.2 Age"
   ]
  },
  {
   "cell_type": "code",
   "execution_count": 23,
   "id": "eca47c45",
   "metadata": {
    "ExecuteTime": {
     "end_time": "2022-10-09T13:04:11.315226Z",
     "start_time": "2022-10-09T13:04:11.164305Z"
    }
   },
   "outputs": [
    {
     "data": {
      "text/plain": [
       "<AxesSubplot: xlabel='age'>"
      ]
     },
     "execution_count": 23,
     "metadata": {},
     "output_type": "execute_result"
    },
    {
     "data": {
      "image/png": "[encoded data removed]",
      "text/plain": [
       "<Figure size 432x288 with 1 Axes>"
      ]
     },
     "metadata": {
      "needs_background": "light"
     },
     "output_type": "display_data"
    }
   ],
   "source": [
    "sns.boxplot(data=df4, x='age')"
   ]
  },
  {
   "cell_type": "markdown",
   "id": "5b887dcd",
   "metadata": {},
   "source": [
    "### 4.1.3 Year Publication"
   ]
  },
  {
   "cell_type": "code",
   "execution_count": 24,
   "id": "53354773",
   "metadata": {
    "ExecuteTime": {
     "end_time": "2022-10-09T13:04:11.514124Z",
     "start_time": "2022-10-09T13:04:11.318231Z"
    }
   },
   "outputs": [
    {
     "data": {
      "text/plain": [
       "<AxesSubplot: xlabel='year_of_publication'>"
      ]
     },
     "execution_count": 24,
     "metadata": {},
     "output_type": "execute_result"
    },
    {
     "data": {
      "image/png": "[encoded data removed]",
      "text/plain": [
       "<Figure size 432x288 with 1 Axes>"
      ]
     },
     "metadata": {
      "needs_background": "light"
     },
     "output_type": "display_data"
    }
   ],
   "source": [
    "sns.boxplot(data=df4, x='year_of_publication')"
   ]
  },
  {
   "cell_type": "markdown",
   "id": "87be0b41",
   "metadata": {},
   "source": [
    "## 4.2 Bivariate Analysis"
   ]
  },
  {
   "cell_type": "code",
   "execution_count": 25,
   "id": "3a1170d3",
   "metadata": {
    "ExecuteTime": {
     "end_time": "2022-10-09T13:04:36.820965Z",
     "start_time": "2022-10-09T13:04:11.517122Z"
    }
   },
   "outputs": [
    {
     "data": {
      "text/plain": [
       "<seaborn.axisgrid.PairGrid at 0x184e23caef0>"
      ]
     },
     "execution_count": 25,
     "metadata": {},
     "output_type": "execute_result"
    },
    {
     "data": {
      "text/plain": [
       "<Figure size 1800x864 with 0 Axes>"
      ]
     },
     "metadata": {},
     "output_type": "display_data"
    },
    {
     "data": {
      "image/png": "[encoded data removed]",
      "text/plain": [
       "<Figure size 540x540 with 12 Axes>"
      ]
     },
     "metadata": {
      "needs_background": "light"
     },
     "output_type": "display_data"
    }
   ],
   "source": [
    "cols = ['user_id']\n",
    "df42 = df4.drop( cols, axis=1 )\n",
    "\n",
    "plt.figure( figsize=(25, 12) )\n",
    "sns.pairplot( df42 )"
   ]
  },
  {
   "cell_type": "markdown",
   "id": "e2e13ec4",
   "metadata": {},
   "source": [
    "## 4.2.1 Quantity x Mean"
   ]
  },
  {
   "cell_type": "code",
   "execution_count": 26,
   "id": "fa1638b6",
   "metadata": {
    "ExecuteTime": {
     "end_time": "2022-10-09T13:04:37.608795Z",
     "start_time": "2022-10-09T13:04:36.823969Z"
    }
   },
   "outputs": [
    {
     "data": {
      "text/html": [
       "<div>\n",
       "<style scoped>\n",
       "    .dataframe tbody tr th:only-of-type {\n",
       "        vertical-align: middle;\n",
       "    }\n",
       "\n",
       "    .dataframe tbody tr th {\n",
       "        vertical-align: top;\n",
       "    }\n",
       "\n",
       "    .dataframe thead th {\n",
       "        text-align: right;\n",
       "    }\n",
       "</style>\n",
       "<table border=\"1\" class=\"dataframe\">\n",
       "  <thead>\n",
       "    <tr style=\"text-align: right;\">\n",
       "      <th></th>\n",
       "      <th>book_title</th>\n",
       "      <th>mean_rating</th>\n",
       "      <th>count_rating</th>\n",
       "    </tr>\n",
       "  </thead>\n",
       "  <tbody>\n",
       "    <tr>\n",
       "      <th>0</th>\n",
       "      <td>A Light in the Storm: The Civil War Diary of ...</td>\n",
       "      <td>9.000000</td>\n",
       "      <td>1</td>\n",
       "    </tr>\n",
       "    <tr>\n",
       "      <th>1</th>\n",
       "      <td>Ask Lily (Young Women of Faith: Lily Series, ...</td>\n",
       "      <td>8.000000</td>\n",
       "      <td>1</td>\n",
       "    </tr>\n",
       "    <tr>\n",
       "      <th>2</th>\n",
       "      <td>Dark Justice</td>\n",
       "      <td>10.000000</td>\n",
       "      <td>1</td>\n",
       "    </tr>\n",
       "    <tr>\n",
       "      <th>3</th>\n",
       "      <td>Earth Prayers From around the World: 365 Pray...</td>\n",
       "      <td>7.142857</td>\n",
       "      <td>7</td>\n",
       "    </tr>\n",
       "    <tr>\n",
       "      <th>4</th>\n",
       "      <td>Final Fantasy Anthology: Official Strategy Gu...</td>\n",
       "      <td>10.000000</td>\n",
       "      <td>2</td>\n",
       "    </tr>\n",
       "  </tbody>\n",
       "</table>\n",
       "</div>"
      ],
      "text/plain": [
       "                                          book_title  mean_rating  \\\n",
       "0   A Light in the Storm: The Civil War Diary of ...     9.000000   \n",
       "1   Ask Lily (Young Women of Faith: Lily Series, ...     8.000000   \n",
       "2                                       Dark Justice    10.000000   \n",
       "3   Earth Prayers From around the World: 365 Pray...     7.142857   \n",
       "4   Final Fantasy Anthology: Official Strategy Gu...    10.000000   \n",
       "\n",
       "   count_rating  \n",
       "0             1  \n",
       "1             1  \n",
       "2             1  \n",
       "3             7  \n",
       "4             2  "
      ]
     },
     "execution_count": 26,
     "metadata": {},
     "output_type": "execute_result"
    }
   ],
   "source": [
    "aux = df4.loc[:, ['book_title', 'book_rating']].groupby( 'book_title' ).mean().reset_index()\n",
    "aux.columns = ['book_title', 'mean_rating']\n",
    "\n",
    "aux2 = df4.loc[:, ['book_title', 'book_rating']].groupby('book_title').count().reset_index()\n",
    "aux2.columns = ['book_title', 'count_rating']\n",
    "\n",
    "aux = pd.merge( aux, aux2, how='inner', on='book_title' )\n",
    "\n",
    "aux.head()"
   ]
  },
  {
   "cell_type": "code",
   "execution_count": 27,
   "id": "01769960",
   "metadata": {
    "ExecuteTime": {
     "end_time": "2022-10-09T13:04:38.252397Z",
     "start_time": "2022-10-09T13:04:37.610793Z"
    }
   },
   "outputs": [
    {
     "data": {
      "text/plain": [
       "<AxesSubplot: xlabel='count_rating', ylabel='mean_rating'>"
      ]
     },
     "execution_count": 27,
     "metadata": {},
     "output_type": "execute_result"
    },
    {
     "data": {
      "image/png": "[encoded data removed]",
      "text/plain": [
       "<Figure size 432x288 with 1 Axes>"
      ]
     },
     "metadata": {
      "needs_background": "light"
     },
     "output_type": "display_data"
    }
   ],
   "source": [
    "sns.scatterplot(data=aux, x='count_rating', y='mean_rating')"
   ]
  },
  {
   "cell_type": "markdown",
   "id": "eff97977",
   "metadata": {},
   "source": [
    "## 4.2.2 Quantity x Age"
   ]
  },
  {
   "cell_type": "code",
   "execution_count": 28,
   "id": "e85559d1",
   "metadata": {
    "ExecuteTime": {
     "end_time": "2022-10-09T13:04:38.703353Z",
     "start_time": "2022-10-09T13:04:38.260394Z"
    }
   },
   "outputs": [],
   "source": [
    "aux3 = df4.loc[:, ['book_title', 'age']].groupby( 'book_title' ).mean().reset_index()\n",
    "aux3 = aux3.rename(columns={'age': 'mean_age'})\n",
    "aux = pd.merge( aux, aux3, how='inner', on='book_title' )"
   ]
  },
  {
   "cell_type": "code",
   "execution_count": 29,
   "id": "6622d4b6",
   "metadata": {
    "ExecuteTime": {
     "end_time": "2022-10-09T13:04:39.272647Z",
     "start_time": "2022-10-09T13:04:38.705352Z"
    }
   },
   "outputs": [
    {
     "data": {
      "text/plain": [
       "<AxesSubplot: xlabel='count_rating', ylabel='mean_age'>"
      ]
     },
     "execution_count": 29,
     "metadata": {},
     "output_type": "execute_result"
    },
    {
     "data": {
      "image/png": "[encoded data removed]",
      "text/plain": [
       "<Figure size 432x288 with 1 Axes>"
      ]
     },
     "metadata": {
      "needs_background": "light"
     },
     "output_type": "display_data"
    }
   ],
   "source": [
    "sns.scatterplot(data=aux, x='count_rating', y='mean_age')"
   ]
  },
  {
   "cell_type": "markdown",
   "id": "9b05461a",
   "metadata": {},
   "source": [
    "## 4.2.3 Quantity Book Rating x Age"
   ]
  },
  {
   "cell_type": "code",
   "execution_count": 30,
   "id": "ced75fe7",
   "metadata": {
    "ExecuteTime": {
     "end_time": "2022-10-09T13:04:39.304726Z",
     "start_time": "2022-10-09T13:04:39.274643Z"
    }
   },
   "outputs": [],
   "source": [
    "aux4 = df4[['age', 'book_rating']].groupby('age').count().reset_index()"
   ]
  },
  {
   "cell_type": "code",
   "execution_count": 31,
   "id": "e8486e33",
   "metadata": {
    "ExecuteTime": {
     "end_time": "2022-10-09T13:04:39.510599Z",
     "start_time": "2022-10-09T13:04:39.307725Z"
    }
   },
   "outputs": [
    {
     "data": {
      "text/plain": [
       "<AxesSubplot: xlabel='age', ylabel='book_rating'>"
      ]
     },
     "execution_count": 31,
     "metadata": {},
     "output_type": "execute_result"
    },
    {
     "data": {
      "image/png": "[encoded data removed]",
      "text/plain": [
       "<Figure size 432x288 with 1 Axes>"
      ]
     },
     "metadata": {
      "needs_background": "light"
     },
     "output_type": "display_data"
    }
   ],
   "source": [
    "sns.scatterplot(data=aux4, x='age', y='book_rating')"
   ]
  },
  {
   "cell_type": "code",
   "execution_count": 32,
   "id": "e95cdfcf",
   "metadata": {
    "ExecuteTime": {
     "end_time": "2022-10-09T13:04:39.856423Z",
     "start_time": "2022-10-09T13:04:39.512598Z"
    }
   },
   "outputs": [],
   "source": [
    "aux = df4[['book_rating', 'book_title']].groupby('book_title').count().reset_index()"
   ]
  },
  {
   "cell_type": "code",
   "execution_count": 33,
   "id": "640dc1a6",
   "metadata": {
    "ExecuteTime": {
     "end_time": "2022-10-09T13:04:39.904342Z",
     "start_time": "2022-10-09T13:04:39.858421Z"
    }
   },
   "outputs": [],
   "source": [
    "aux['quantity_rating'] = aux['book_rating'].apply(lambda x: '1-5' if (x >= 1) & (x <= 5) else\n",
    "                                                            '6-10' if (x > 5) & (x <= 10) else\n",
    "                                                            '11-100' if (x > 10) & (x <= 100) else '> 100')"
   ]
  },
  {
   "cell_type": "code",
   "execution_count": 34,
   "id": "50bd0d86",
   "metadata": {
    "ExecuteTime": {
     "end_time": "2022-10-09T13:04:39.936323Z",
     "start_time": "2022-10-09T13:04:39.907341Z"
    }
   },
   "outputs": [
    {
     "data": {
      "text/plain": [
       "1-5       0.920010\n",
       "6-10      0.042783\n",
       "11-100    0.035790\n",
       "> 100     0.001416\n",
       "Name: quantity_rating, dtype: float64"
      ]
     },
     "execution_count": 34,
     "metadata": {},
     "output_type": "execute_result"
    }
   ],
   "source": [
    "aux['quantity_rating'].value_counts(normalize=True)"
   ]
  },
  {
   "cell_type": "code",
   "execution_count": 35,
   "id": "590545c9",
   "metadata": {
    "ExecuteTime": {
     "end_time": "2022-10-09T13:04:40.252641Z",
     "start_time": "2022-10-09T13:04:39.939322Z"
    }
   },
   "outputs": [
    {
     "data": {
      "text/plain": [
       "array([[<AxesSubplot: title={'center': 'book_rating'}>]], dtype=object)"
      ]
     },
     "execution_count": 35,
     "metadata": {},
     "output_type": "execute_result"
    },
    {
     "data": {
      "image/png": "[encoded data removed]",
      "text/plain": [
       "<Figure size 432x288 with 1 Axes>"
      ]
     },
     "metadata": {
      "needs_background": "light"
     },
     "output_type": "display_data"
    }
   ],
   "source": [
    "aux.hist(bins=25)"
   ]
  },
  {
   "cell_type": "markdown",
   "id": "9d6bae56",
   "metadata": {},
   "source": [
    "## 4.2.4 Quantity Book Rating x Country"
   ]
  },
  {
   "cell_type": "code",
   "execution_count": 36,
   "id": "ef8c5671",
   "metadata": {
    "ExecuteTime": {
     "end_time": "2022-10-09T13:04:40.300341Z",
     "start_time": "2022-10-09T13:04:40.254639Z"
    }
   },
   "outputs": [],
   "source": [
    "aux = df4['country'].value_counts(normalize=True).head(10).reset_index()"
   ]
  },
  {
   "cell_type": "code",
   "execution_count": 37,
   "id": "76799ffd",
   "metadata": {
    "ExecuteTime": {
     "end_time": "2022-10-09T13:04:40.535335Z",
     "start_time": "2022-10-09T13:04:40.302339Z"
    }
   },
   "outputs": [
    {
     "data": {
      "text/plain": [
       "<AxesSubplot: xlabel='index', ylabel='country'>"
      ]
     },
     "execution_count": 37,
     "metadata": {},
     "output_type": "execute_result"
    },
    {
     "data": {
      "image/png": "[encoded data removed]",
      "text/plain": [
       "<Figure size 432x288 with 1 Axes>"
      ]
     },
     "metadata": {
      "needs_background": "light"
     },
     "output_type": "display_data"
    }
   ],
   "source": [
    "sns.barplot(data=aux, x='index', y='country')"
   ]
  },
  {
   "cell_type": "markdown",
   "id": "cfa46bd9",
   "metadata": {},
   "source": [
    "## 4.3 Multivariate Analysis"
   ]
  },
  {
   "cell_type": "code",
   "execution_count": 38,
   "id": "16b4992b",
   "metadata": {
    "ExecuteTime": {
     "end_time": "2022-10-09T13:04:40.914784Z",
     "start_time": "2022-10-09T13:04:40.538335Z"
    }
   },
   "outputs": [
    {
     "data": {
      "image/png": "[encoded data removed]",
      "text/plain": [
       "<Figure size 432x288 with 2 Axes>"
      ]
     },
     "metadata": {
      "needs_background": "light"
     },
     "output_type": "display_data"
    }
   ],
   "source": [
    "correlation = num_attributes.corr(method='pearson')\n",
    "sns.heatmap(correlation, annot=True);"
   ]
  },
  {
   "cell_type": "markdown",
   "id": "35ab5603",
   "metadata": {},
   "source": [
    "# 5.0 Data Preparation"
   ]
  },
  {
   "cell_type": "code",
   "execution_count": 39,
   "id": "c516d632",
   "metadata": {
    "ExecuteTime": {
     "end_time": "2022-10-09T13:04:40.975764Z",
     "start_time": "2022-10-09T13:04:40.917782Z"
    }
   },
   "outputs": [],
   "source": [
    "df5 = df4.copy()"
   ]
  },
  {
   "cell_type": "markdown",
   "id": "4d19a3b0",
   "metadata": {},
   "source": [
    "## 5.1 Data Filter for modeling"
   ]
  },
  {
   "cell_type": "code",
   "execution_count": 40,
   "id": "ecd11dc1",
   "metadata": {
    "ExecuteTime": {
     "end_time": "2022-10-09T13:04:41.071771Z",
     "start_time": "2022-10-09T13:04:40.978762Z"
    }
   },
   "outputs": [],
   "source": [
    "df5 = df5[(df5['age'] >= 18) & (df5['age'] <= 85)]"
   ]
  },
  {
   "cell_type": "code",
   "execution_count": 41,
   "id": "49fa38df",
   "metadata": {
    "ExecuteTime": {
     "end_time": "2022-10-09T13:04:41.151332Z",
     "start_time": "2022-10-09T13:04:41.073765Z"
    }
   },
   "outputs": [],
   "source": [
    "df5 = df5[(df5['year_of_publication'] >= 1990) & (df5['year_of_publication'] <=2020 )]"
   ]
  },
  {
   "cell_type": "code",
   "execution_count": 42,
   "id": "665b96a0",
   "metadata": {
    "ExecuteTime": {
     "end_time": "2022-10-09T13:04:41.355208Z",
     "start_time": "2022-10-09T13:04:41.154331Z"
    }
   },
   "outputs": [
    {
     "data": {
      "text/html": [
       "<div>\n",
       "<style scoped>\n",
       "    .dataframe tbody tr th:only-of-type {\n",
       "        vertical-align: middle;\n",
       "    }\n",
       "\n",
       "    .dataframe tbody tr th {\n",
       "        vertical-align: top;\n",
       "    }\n",
       "\n",
       "    .dataframe thead th {\n",
       "        text-align: right;\n",
       "    }\n",
       "</style>\n",
       "<table border=\"1\" class=\"dataframe\">\n",
       "  <thead>\n",
       "    <tr style=\"text-align: right;\">\n",
       "      <th></th>\n",
       "      <th>book_title</th>\n",
       "      <th>count_rating</th>\n",
       "    </tr>\n",
       "  </thead>\n",
       "  <tbody>\n",
       "    <tr>\n",
       "      <th>0</th>\n",
       "      <td>Ask Lily (Young Women of Faith: Lily Series, ...</td>\n",
       "      <td>1</td>\n",
       "    </tr>\n",
       "    <tr>\n",
       "      <th>1</th>\n",
       "      <td>Dark Justice</td>\n",
       "      <td>1</td>\n",
       "    </tr>\n",
       "    <tr>\n",
       "      <th>2</th>\n",
       "      <td>Earth Prayers From around the World: 365 Pray...</td>\n",
       "      <td>3</td>\n",
       "    </tr>\n",
       "    <tr>\n",
       "      <th>3</th>\n",
       "      <td>Final Fantasy Anthology: Official Strategy Gu...</td>\n",
       "      <td>1</td>\n",
       "    </tr>\n",
       "    <tr>\n",
       "      <th>4</th>\n",
       "      <td>Flight of Fancy: American Heiresses (Zebra Ba...</td>\n",
       "      <td>1</td>\n",
       "    </tr>\n",
       "  </tbody>\n",
       "</table>\n",
       "</div>"
      ],
      "text/plain": [
       "                                          book_title  count_rating\n",
       "0   Ask Lily (Young Women of Faith: Lily Series, ...             1\n",
       "1                                       Dark Justice             1\n",
       "2   Earth Prayers From around the World: 365 Pray...             3\n",
       "3   Final Fantasy Anthology: Official Strategy Gu...             1\n",
       "4   Flight of Fancy: American Heiresses (Zebra Ba...             1"
      ]
     },
     "execution_count": 42,
     "metadata": {},
     "output_type": "execute_result"
    }
   ],
   "source": [
    "aux = df5.loc[:, ['book_title', 'book_rating']].groupby('book_title').count().reset_index()\n",
    "aux.columns = ['book_title', 'count_rating']\n",
    "\n",
    "#aux = pd.merge( aux, aux2, how='inner', on='book_title' )\n",
    "\n",
    "aux.head()"
   ]
  },
  {
   "cell_type": "code",
   "execution_count": 43,
   "id": "85c076ed",
   "metadata": {
    "ExecuteTime": {
     "end_time": "2022-10-09T13:04:41.525123Z",
     "start_time": "2022-10-09T13:04:41.357206Z"
    }
   },
   "outputs": [],
   "source": [
    "df5 = pd.merge(df5, aux, how='inner', on='book_title')"
   ]
  },
  {
   "cell_type": "code",
   "execution_count": 44,
   "id": "45807ac6",
   "metadata": {
    "ExecuteTime": {
     "end_time": "2022-10-09T13:04:41.556129Z",
     "start_time": "2022-10-09T13:04:41.527118Z"
    }
   },
   "outputs": [],
   "source": [
    "df51 = df5[df5['count_rating'] >= 50]"
   ]
  },
  {
   "cell_type": "code",
   "execution_count": 45,
   "id": "84d14fc3",
   "metadata": {
    "ExecuteTime": {
     "end_time": "2022-10-09T13:04:41.571127Z",
     "start_time": "2022-10-09T13:04:41.558116Z"
    }
   },
   "outputs": [
    {
     "data": {
      "text/plain": [
       "(27206, 15)"
      ]
     },
     "execution_count": 45,
     "metadata": {},
     "output_type": "execute_result"
    }
   ],
   "source": [
    "df51.shape"
   ]
  },
  {
   "cell_type": "code",
   "execution_count": 46,
   "id": "9f35c3e2",
   "metadata": {
    "ExecuteTime": {
     "end_time": "2022-10-09T13:04:41.632109Z",
     "start_time": "2022-10-09T13:04:41.573127Z"
    }
   },
   "outputs": [
    {
     "data": {
      "text/plain": [
       "0"
      ]
     },
     "execution_count": 46,
     "metadata": {},
     "output_type": "execute_result"
    }
   ],
   "source": [
    "df51.duplicated().sum()"
   ]
  },
  {
   "cell_type": "markdown",
   "id": "026f2135",
   "metadata": {},
   "source": [
    "## 5.2 Matrix creation "
   ]
  },
  {
   "cell_type": "code",
   "execution_count": 47,
   "id": "a595e34a",
   "metadata": {
    "ExecuteTime": {
     "end_time": "2022-10-09T13:04:41.724325Z",
     "start_time": "2022-10-09T13:04:41.634107Z"
    }
   },
   "outputs": [],
   "source": [
    "matriz = df51.pivot_table( values='book_rating', index='book_title', columns='user_id' )"
   ]
  },
  {
   "cell_type": "code",
   "execution_count": 48,
   "id": "4e0463aa",
   "metadata": {
    "ExecuteTime": {
     "end_time": "2022-10-09T13:04:41.756325Z",
     "start_time": "2022-10-09T13:04:41.727325Z"
    }
   },
   "outputs": [],
   "source": [
    "matriz.fillna(0, inplace = True)"
   ]
  },
  {
   "cell_type": "code",
   "execution_count": 49,
   "id": "e70c9c73",
   "metadata": {
    "ExecuteTime": {
     "end_time": "2022-10-09T13:04:41.803952Z",
     "start_time": "2022-10-09T13:04:41.759324Z"
    }
   },
   "outputs": [
    {
     "data": {
      "text/html": [
       "<div>\n",
       "<style scoped>\n",
       "    .dataframe tbody tr th:only-of-type {\n",
       "        vertical-align: middle;\n",
       "    }\n",
       "\n",
       "    .dataframe tbody tr th {\n",
       "        vertical-align: top;\n",
       "    }\n",
       "\n",
       "    .dataframe thead th {\n",
       "        text-align: right;\n",
       "    }\n",
       "</style>\n",
       "<table border=\"1\" class=\"dataframe\">\n",
       "  <thead>\n",
       "    <tr style=\"text-align: right;\">\n",
       "      <th>user_id</th>\n",
       "      <th>51</th>\n",
       "      <th>99</th>\n",
       "      <th>114</th>\n",
       "      <th>125</th>\n",
       "      <th>165</th>\n",
       "      <th>254</th>\n",
       "      <th>272</th>\n",
       "      <th>332</th>\n",
       "      <th>367</th>\n",
       "      <th>388</th>\n",
       "      <th>...</th>\n",
       "      <th>278653</th>\n",
       "      <th>278683</th>\n",
       "      <th>278723</th>\n",
       "      <th>278755</th>\n",
       "      <th>278798</th>\n",
       "      <th>278800</th>\n",
       "      <th>278832</th>\n",
       "      <th>278836</th>\n",
       "      <th>278843</th>\n",
       "      <th>278844</th>\n",
       "    </tr>\n",
       "    <tr>\n",
       "      <th>book_title</th>\n",
       "      <th></th>\n",
       "      <th></th>\n",
       "      <th></th>\n",
       "      <th></th>\n",
       "      <th></th>\n",
       "      <th></th>\n",
       "      <th></th>\n",
       "      <th></th>\n",
       "      <th></th>\n",
       "      <th></th>\n",
       "      <th></th>\n",
       "      <th></th>\n",
       "      <th></th>\n",
       "      <th></th>\n",
       "      <th></th>\n",
       "      <th></th>\n",
       "      <th></th>\n",
       "      <th></th>\n",
       "      <th></th>\n",
       "      <th></th>\n",
       "      <th></th>\n",
       "    </tr>\n",
       "  </thead>\n",
       "  <tbody>\n",
       "    <tr>\n",
       "      <th>1984</th>\n",
       "      <td>0.0</td>\n",
       "      <td>0.0</td>\n",
       "      <td>0.0</td>\n",
       "      <td>0.0</td>\n",
       "      <td>0.0</td>\n",
       "      <td>9.0</td>\n",
       "      <td>0.0</td>\n",
       "      <td>0.0</td>\n",
       "      <td>0.0</td>\n",
       "      <td>0.0</td>\n",
       "      <td>...</td>\n",
       "      <td>0.0</td>\n",
       "      <td>0.0</td>\n",
       "      <td>0.0</td>\n",
       "      <td>0.0</td>\n",
       "      <td>0.0</td>\n",
       "      <td>0.0</td>\n",
       "      <td>0.0</td>\n",
       "      <td>0.0</td>\n",
       "      <td>0.0</td>\n",
       "      <td>0.0</td>\n",
       "    </tr>\n",
       "    <tr>\n",
       "      <th>1st to Die: A Novel</th>\n",
       "      <td>0.0</td>\n",
       "      <td>0.0</td>\n",
       "      <td>0.0</td>\n",
       "      <td>0.0</td>\n",
       "      <td>0.0</td>\n",
       "      <td>0.0</td>\n",
       "      <td>0.0</td>\n",
       "      <td>0.0</td>\n",
       "      <td>0.0</td>\n",
       "      <td>0.0</td>\n",
       "      <td>...</td>\n",
       "      <td>0.0</td>\n",
       "      <td>0.0</td>\n",
       "      <td>0.0</td>\n",
       "      <td>0.0</td>\n",
       "      <td>0.0</td>\n",
       "      <td>0.0</td>\n",
       "      <td>0.0</td>\n",
       "      <td>0.0</td>\n",
       "      <td>0.0</td>\n",
       "      <td>0.0</td>\n",
       "    </tr>\n",
       "    <tr>\n",
       "      <th>2nd Chance</th>\n",
       "      <td>0.0</td>\n",
       "      <td>0.0</td>\n",
       "      <td>0.0</td>\n",
       "      <td>0.0</td>\n",
       "      <td>0.0</td>\n",
       "      <td>0.0</td>\n",
       "      <td>0.0</td>\n",
       "      <td>0.0</td>\n",
       "      <td>0.0</td>\n",
       "      <td>0.0</td>\n",
       "      <td>...</td>\n",
       "      <td>0.0</td>\n",
       "      <td>0.0</td>\n",
       "      <td>0.0</td>\n",
       "      <td>0.0</td>\n",
       "      <td>0.0</td>\n",
       "      <td>0.0</td>\n",
       "      <td>0.0</td>\n",
       "      <td>0.0</td>\n",
       "      <td>0.0</td>\n",
       "      <td>0.0</td>\n",
       "    </tr>\n",
       "    <tr>\n",
       "      <th>A Bend in the Road</th>\n",
       "      <td>0.0</td>\n",
       "      <td>0.0</td>\n",
       "      <td>0.0</td>\n",
       "      <td>0.0</td>\n",
       "      <td>0.0</td>\n",
       "      <td>0.0</td>\n",
       "      <td>0.0</td>\n",
       "      <td>0.0</td>\n",
       "      <td>0.0</td>\n",
       "      <td>0.0</td>\n",
       "      <td>...</td>\n",
       "      <td>0.0</td>\n",
       "      <td>0.0</td>\n",
       "      <td>0.0</td>\n",
       "      <td>0.0</td>\n",
       "      <td>0.0</td>\n",
       "      <td>0.0</td>\n",
       "      <td>0.0</td>\n",
       "      <td>0.0</td>\n",
       "      <td>0.0</td>\n",
       "      <td>0.0</td>\n",
       "    </tr>\n",
       "    <tr>\n",
       "      <th>A Case of Need</th>\n",
       "      <td>0.0</td>\n",
       "      <td>0.0</td>\n",
       "      <td>0.0</td>\n",
       "      <td>0.0</td>\n",
       "      <td>0.0</td>\n",
       "      <td>0.0</td>\n",
       "      <td>0.0</td>\n",
       "      <td>0.0</td>\n",
       "      <td>0.0</td>\n",
       "      <td>0.0</td>\n",
       "      <td>...</td>\n",
       "      <td>0.0</td>\n",
       "      <td>0.0</td>\n",
       "      <td>0.0</td>\n",
       "      <td>0.0</td>\n",
       "      <td>0.0</td>\n",
       "      <td>0.0</td>\n",
       "      <td>0.0</td>\n",
       "      <td>0.0</td>\n",
       "      <td>0.0</td>\n",
       "      <td>0.0</td>\n",
       "    </tr>\n",
       "    <tr>\n",
       "      <th>...</th>\n",
       "      <td>...</td>\n",
       "      <td>...</td>\n",
       "      <td>...</td>\n",
       "      <td>...</td>\n",
       "      <td>...</td>\n",
       "      <td>...</td>\n",
       "      <td>...</td>\n",
       "      <td>...</td>\n",
       "      <td>...</td>\n",
       "      <td>...</td>\n",
       "      <td>...</td>\n",
       "      <td>...</td>\n",
       "      <td>...</td>\n",
       "      <td>...</td>\n",
       "      <td>...</td>\n",
       "      <td>...</td>\n",
       "      <td>...</td>\n",
       "      <td>...</td>\n",
       "      <td>...</td>\n",
       "      <td>...</td>\n",
       "      <td>...</td>\n",
       "    </tr>\n",
       "    <tr>\n",
       "      <th>Wild Animus</th>\n",
       "      <td>0.0</td>\n",
       "      <td>0.0</td>\n",
       "      <td>0.0</td>\n",
       "      <td>0.0</td>\n",
       "      <td>0.0</td>\n",
       "      <td>0.0</td>\n",
       "      <td>0.0</td>\n",
       "      <td>0.0</td>\n",
       "      <td>0.0</td>\n",
       "      <td>0.0</td>\n",
       "      <td>...</td>\n",
       "      <td>0.0</td>\n",
       "      <td>0.0</td>\n",
       "      <td>0.0</td>\n",
       "      <td>0.0</td>\n",
       "      <td>0.0</td>\n",
       "      <td>0.0</td>\n",
       "      <td>0.0</td>\n",
       "      <td>0.0</td>\n",
       "      <td>0.0</td>\n",
       "      <td>0.0</td>\n",
       "    </tr>\n",
       "    <tr>\n",
       "      <th>Wish You Well</th>\n",
       "      <td>0.0</td>\n",
       "      <td>0.0</td>\n",
       "      <td>0.0</td>\n",
       "      <td>0.0</td>\n",
       "      <td>0.0</td>\n",
       "      <td>0.0</td>\n",
       "      <td>0.0</td>\n",
       "      <td>0.0</td>\n",
       "      <td>0.0</td>\n",
       "      <td>0.0</td>\n",
       "      <td>...</td>\n",
       "      <td>0.0</td>\n",
       "      <td>0.0</td>\n",
       "      <td>0.0</td>\n",
       "      <td>0.0</td>\n",
       "      <td>0.0</td>\n",
       "      <td>0.0</td>\n",
       "      <td>0.0</td>\n",
       "      <td>0.0</td>\n",
       "      <td>0.0</td>\n",
       "      <td>0.0</td>\n",
       "    </tr>\n",
       "    <tr>\n",
       "      <th>Wizard and Glass (The Dark Tower, Book 4)</th>\n",
       "      <td>0.0</td>\n",
       "      <td>0.0</td>\n",
       "      <td>0.0</td>\n",
       "      <td>0.0</td>\n",
       "      <td>0.0</td>\n",
       "      <td>0.0</td>\n",
       "      <td>0.0</td>\n",
       "      <td>0.0</td>\n",
       "      <td>0.0</td>\n",
       "      <td>0.0</td>\n",
       "      <td>...</td>\n",
       "      <td>0.0</td>\n",
       "      <td>0.0</td>\n",
       "      <td>0.0</td>\n",
       "      <td>0.0</td>\n",
       "      <td>0.0</td>\n",
       "      <td>0.0</td>\n",
       "      <td>0.0</td>\n",
       "      <td>0.0</td>\n",
       "      <td>0.0</td>\n",
       "      <td>0.0</td>\n",
       "    </tr>\n",
       "    <tr>\n",
       "      <th>Year of Wonders</th>\n",
       "      <td>0.0</td>\n",
       "      <td>0.0</td>\n",
       "      <td>0.0</td>\n",
       "      <td>0.0</td>\n",
       "      <td>0.0</td>\n",
       "      <td>0.0</td>\n",
       "      <td>0.0</td>\n",
       "      <td>0.0</td>\n",
       "      <td>0.0</td>\n",
       "      <td>0.0</td>\n",
       "      <td>...</td>\n",
       "      <td>0.0</td>\n",
       "      <td>0.0</td>\n",
       "      <td>0.0</td>\n",
       "      <td>0.0</td>\n",
       "      <td>0.0</td>\n",
       "      <td>0.0</td>\n",
       "      <td>0.0</td>\n",
       "      <td>0.0</td>\n",
       "      <td>0.0</td>\n",
       "      <td>0.0</td>\n",
       "    </tr>\n",
       "    <tr>\n",
       "      <th>\\O\\\" Is for Outlaw\"</th>\n",
       "      <td>0.0</td>\n",
       "      <td>0.0</td>\n",
       "      <td>0.0</td>\n",
       "      <td>0.0</td>\n",
       "      <td>0.0</td>\n",
       "      <td>0.0</td>\n",
       "      <td>0.0</td>\n",
       "      <td>0.0</td>\n",
       "      <td>0.0</td>\n",
       "      <td>0.0</td>\n",
       "      <td>...</td>\n",
       "      <td>0.0</td>\n",
       "      <td>0.0</td>\n",
       "      <td>0.0</td>\n",
       "      <td>0.0</td>\n",
       "      <td>0.0</td>\n",
       "      <td>0.0</td>\n",
       "      <td>0.0</td>\n",
       "      <td>0.0</td>\n",
       "      <td>0.0</td>\n",
       "      <td>0.0</td>\n",
       "    </tr>\n",
       "  </tbody>\n",
       "</table>\n",
       "<p>299 rows × 10968 columns</p>\n",
       "</div>"
      ],
      "text/plain": [
       "user_id                                    51      99      114     125     \\\n",
       "book_title                                                                  \n",
       "1984                                          0.0     0.0     0.0     0.0   \n",
       "1st to Die: A Novel                           0.0     0.0     0.0     0.0   \n",
       "2nd Chance                                    0.0     0.0     0.0     0.0   \n",
       "A Bend in the Road                            0.0     0.0     0.0     0.0   \n",
       "A Case of Need                                0.0     0.0     0.0     0.0   \n",
       "...                                           ...     ...     ...     ...   \n",
       "Wild Animus                                   0.0     0.0     0.0     0.0   \n",
       "Wish You Well                                 0.0     0.0     0.0     0.0   \n",
       "Wizard and Glass (The Dark Tower, Book 4)     0.0     0.0     0.0     0.0   \n",
       "Year of Wonders                               0.0     0.0     0.0     0.0   \n",
       "\\O\\\" Is for Outlaw\"                           0.0     0.0     0.0     0.0   \n",
       "\n",
       "user_id                                    165     254     272     332     \\\n",
       "book_title                                                                  \n",
       "1984                                          0.0     9.0     0.0     0.0   \n",
       "1st to Die: A Novel                           0.0     0.0     0.0     0.0   \n",
       "2nd Chance                                    0.0     0.0     0.0     0.0   \n",
       "A Bend in the Road                            0.0     0.0     0.0     0.0   \n",
       "A Case of Need                                0.0     0.0     0.0     0.0   \n",
       "...                                           ...     ...     ...     ...   \n",
       "Wild Animus                                   0.0     0.0     0.0     0.0   \n",
       "Wish You Well                                 0.0     0.0     0.0     0.0   \n",
       "Wizard and Glass (The Dark Tower, Book 4)     0.0     0.0     0.0     0.0   \n",
       "Year of Wonders                               0.0     0.0     0.0     0.0   \n",
       "\\O\\\" Is for Outlaw\"                           0.0     0.0     0.0     0.0   \n",
       "\n",
       "user_id                                    367     388     ...  278653  \\\n",
       "book_title                                                 ...           \n",
       "1984                                          0.0     0.0  ...     0.0   \n",
       "1st to Die: A Novel                           0.0     0.0  ...     0.0   \n",
       "2nd Chance                                    0.0     0.0  ...     0.0   \n",
       "A Bend in the Road                            0.0     0.0  ...     0.0   \n",
       "A Case of Need                                0.0     0.0  ...     0.0   \n",
       "...                                           ...     ...  ...     ...   \n",
       "Wild Animus                                   0.0     0.0  ...     0.0   \n",
       "Wish You Well                                 0.0     0.0  ...     0.0   \n",
       "Wizard and Glass (The Dark Tower, Book 4)     0.0     0.0  ...     0.0   \n",
       "Year of Wonders                               0.0     0.0  ...     0.0   \n",
       "\\O\\\" Is for Outlaw\"                           0.0     0.0  ...     0.0   \n",
       "\n",
       "user_id                                    278683  278723  278755  278798  \\\n",
       "book_title                                                                  \n",
       "1984                                          0.0     0.0     0.0     0.0   \n",
       "1st to Die: A Novel                           0.0     0.0     0.0     0.0   \n",
       "2nd Chance                                    0.0     0.0     0.0     0.0   \n",
       "A Bend in the Road                            0.0     0.0     0.0     0.0   \n",
       "A Case of Need                                0.0     0.0     0.0     0.0   \n",
       "...                                           ...     ...     ...     ...   \n",
       "Wild Animus                                   0.0     0.0     0.0     0.0   \n",
       "Wish You Well                                 0.0     0.0     0.0     0.0   \n",
       "Wizard and Glass (The Dark Tower, Book 4)     0.0     0.0     0.0     0.0   \n",
       "Year of Wonders                               0.0     0.0     0.0     0.0   \n",
       "\\O\\\" Is for Outlaw\"                           0.0     0.0     0.0     0.0   \n",
       "\n",
       "user_id                                    278800  278832  278836  278843  \\\n",
       "book_title                                                                  \n",
       "1984                                          0.0     0.0     0.0     0.0   \n",
       "1st to Die: A Novel                           0.0     0.0     0.0     0.0   \n",
       "2nd Chance                                    0.0     0.0     0.0     0.0   \n",
       "A Bend in the Road                            0.0     0.0     0.0     0.0   \n",
       "A Case of Need                                0.0     0.0     0.0     0.0   \n",
       "...                                           ...     ...     ...     ...   \n",
       "Wild Animus                                   0.0     0.0     0.0     0.0   \n",
       "Wish You Well                                 0.0     0.0     0.0     0.0   \n",
       "Wizard and Glass (The Dark Tower, Book 4)     0.0     0.0     0.0     0.0   \n",
       "Year of Wonders                               0.0     0.0     0.0     0.0   \n",
       "\\O\\\" Is for Outlaw\"                           0.0     0.0     0.0     0.0   \n",
       "\n",
       "user_id                                    278844  \n",
       "book_title                                         \n",
       "1984                                          0.0  \n",
       "1st to Die: A Novel                           0.0  \n",
       "2nd Chance                                    0.0  \n",
       "A Bend in the Road                            0.0  \n",
       "A Case of Need                                0.0  \n",
       "...                                           ...  \n",
       "Wild Animus                                   0.0  \n",
       "Wish You Well                                 0.0  \n",
       "Wizard and Glass (The Dark Tower, Book 4)     0.0  \n",
       "Year of Wonders                               0.0  \n",
       "\\O\\\" Is for Outlaw\"                           0.0  \n",
       "\n",
       "[299 rows x 10968 columns]"
      ]
     },
     "execution_count": 49,
     "metadata": {},
     "output_type": "execute_result"
    }
   ],
   "source": [
    "matriz"
   ]
  },
  {
   "cell_type": "code",
   "execution_count": 50,
   "id": "f3f8db5f",
   "metadata": {
    "ExecuteTime": {
     "end_time": "2022-10-09T13:04:41.883903Z",
     "start_time": "2022-10-09T13:04:41.806950Z"
    }
   },
   "outputs": [
    {
     "data": {
      "text/plain": [
       "<299x10968 sparse matrix of type '<class 'numpy.float64'>'\n",
       "\twith 27102 stored elements in Compressed Sparse Column format>"
      ]
     },
     "execution_count": 50,
     "metadata": {},
     "output_type": "execute_result"
    }
   ],
   "source": [
    "matriz_sparse = csc_matrix( matriz )\n",
    "\n",
    "matriz_sparse"
   ]
  },
  {
   "cell_type": "markdown",
   "id": "952938b1",
   "metadata": {},
   "source": [
    "# 6.0 Machine Learning Modelling"
   ]
  },
  {
   "cell_type": "code",
   "execution_count": 51,
   "id": "c5d22789",
   "metadata": {
    "ExecuteTime": {
     "end_time": "2022-10-09T13:04:41.898894Z",
     "start_time": "2022-10-09T13:04:41.885902Z"
    }
   },
   "outputs": [
    {
     "data": {
      "text/html": [
       "<style>#sk-container-id-1 {color: black;background-color: white;}#sk-container-id-1 pre{padding: 0;}#sk-container-id-1 div.sk-toggleable {background-color: white;}#sk-container-id-1 label.sk-toggleable__label {cursor: pointer;display: block;width: 100%;margin-bottom: 0;padding: 0.3em;box-sizing: border-box;text-align: center;}#sk-container-id-1 label.sk-toggleable__label-arrow:before {content: \"▸\";float: left;margin-right: 0.25em;color: #696969;}#sk-container-id-1 label.sk-toggleable__label-arrow:hover:before {color: black;}#sk-container-id-1 div.sk-estimator:hover label.sk-toggleable__label-arrow:before {color: black;}#sk-container-id-1 div.sk-toggleable__content {max-height: 0;max-width: 0;overflow: hidden;text-align: left;background-color: #f0f8ff;}#sk-container-id-1 div.sk-toggleable__content pre {margin: 0.2em;color: black;border-radius: 0.25em;background-color: #f0f8ff;}#sk-container-id-1 input.sk-toggleable__control:checked~div.sk-toggleable__content {max-height: 200px;max-width: 100%;overflow: auto;}#sk-container-id-1 input.sk-toggleable__control:checked~label.sk-toggleable__label-arrow:before {content: \"▾\";}#sk-container-id-1 div.sk-estimator input.sk-toggleable__control:checked~label.sk-toggleable__label {background-color: #d4ebff;}#sk-container-id-1 div.sk-label input.sk-toggleable__control:checked~label.sk-toggleable__label {background-color: #d4ebff;}#sk-container-id-1 input.sk-hidden--visually {border: 0;clip: rect(1px 1px 1px 1px);clip: rect(1px, 1px, 1px, 1px);height: 1px;margin: -1px;overflow: hidden;padding: 0;position: absolute;width: 1px;}#sk-container-id-1 div.sk-estimator {font-family: monospace;background-color: #f0f8ff;border: 1px dotted black;border-radius: 0.25em;box-sizing: border-box;margin-bottom: 0.5em;}#sk-container-id-1 div.sk-estimator:hover {background-color: #d4ebff;}#sk-container-id-1 div.sk-parallel-item::after {content: \"\";width: 100%;border-bottom: 1px solid gray;flex-grow: 1;}#sk-container-id-1 div.sk-label:hover label.sk-toggleable__label {background-color: #d4ebff;}#sk-container-id-1 div.sk-serial::before {content: \"\";position: absolute;border-left: 1px solid gray;box-sizing: border-box;top: 0;bottom: 0;left: 50%;z-index: 0;}#sk-container-id-1 div.sk-serial {display: flex;flex-direction: column;align-items: center;background-color: white;padding-right: 0.2em;padding-left: 0.2em;position: relative;}#sk-container-id-1 div.sk-item {position: relative;z-index: 1;}#sk-container-id-1 div.sk-parallel {display: flex;align-items: stretch;justify-content: center;background-color: white;position: relative;}#sk-container-id-1 div.sk-item::before, #sk-container-id-1 div.sk-parallel-item::before {content: \"\";position: absolute;border-left: 1px solid gray;box-sizing: border-box;top: 0;bottom: 0;left: 50%;z-index: -1;}#sk-container-id-1 div.sk-parallel-item {display: flex;flex-direction: column;z-index: 1;position: relative;background-color: white;}#sk-container-id-1 div.sk-parallel-item:first-child::after {align-self: flex-end;width: 50%;}#sk-container-id-1 div.sk-parallel-item:last-child::after {align-self: flex-start;width: 50%;}#sk-container-id-1 div.sk-parallel-item:only-child::after {width: 0;}#sk-container-id-1 div.sk-dashed-wrapped {border: 1px dashed gray;margin: 0 0.4em 0.5em 0.4em;box-sizing: border-box;padding-bottom: 0.4em;background-color: white;}#sk-container-id-1 div.sk-label label {font-family: monospace;font-weight: bold;display: inline-block;line-height: 1.2em;}#sk-container-id-1 div.sk-label-container {text-align: center;}#sk-container-id-1 div.sk-container {/* jupyter's `normalize.less` sets `[hidden] { display: none; }` but bootstrap.min.css set `[hidden] { display: none !important; }` so we also need the `!important` here to be able to override the default hidden behavior on the sphinx rendered scikit-learn.org. See: https://github.com/scikit-learn/scikit-learn/issues/21755 */display: inline-block !important;position: relative;}#sk-container-id-1 div.sk-text-repr-fallback {display: none;}</style><div id=\"sk-container-id-1\" class=\"sk-top-container\"><div class=\"sk-text-repr-fallback\"><pre>NearestNeighbors(algorithm=&#x27;brute&#x27;, metric=&#x27;cosine&#x27;)</pre><b>In a Jupyter environment, please rerun this cell to show the HTML representation or trust the notebook. <br />On GitHub, the HTML representation is unable to render, please try loading this page with nbviewer.org.</b></div><div class=\"sk-container\" hidden><div class=\"sk-item\"><div class=\"sk-estimator sk-toggleable\"><input class=\"sk-toggleable__control sk-hidden--visually\" id=\"sk-estimator-id-1\" type=\"checkbox\" checked><label for=\"sk-estimator-id-1\" class=\"sk-toggleable__label sk-toggleable__label-arrow\">NearestNeighbors</label><div class=\"sk-toggleable__content\"><pre>NearestNeighbors(algorithm=&#x27;brute&#x27;, metric=&#x27;cosine&#x27;)</pre></div></div></div></div></div>"
      ],
      "text/plain": [
       "NearestNeighbors(algorithm='brute', metric='cosine')"
      ]
     },
     "execution_count": 51,
     "metadata": {},
     "output_type": "execute_result"
    }
   ],
   "source": [
    "# Criar o Modelo\n",
    "# Parametros\n",
    "model = NearestNeighbors(\n",
    "        # Quantidade de recomendações\n",
    "        n_neighbors=5,\n",
    "        # Algoritmo\n",
    "        algorithm='brute',\n",
    "        # metrica de distancia\n",
    "        metric='cosine'\n",
    ")\n",
    "\n",
    "# Fitar o modelo\n",
    "model.fit( matriz_sparse )"
   ]
  },
  {
   "cell_type": "code",
   "execution_count": 52,
   "id": "4e46e0dd",
   "metadata": {
    "ExecuteTime": {
     "end_time": "2022-10-09T13:04:41.913886Z",
     "start_time": "2022-10-09T13:04:41.900892Z"
    }
   },
   "outputs": [
    {
     "name": "stdout",
     "output_type": "stream",
     "text": [
      "216 The Fellowship of the Ring (The Lord of the Rings, Part 1)\n"
     ]
    }
   ],
   "source": [
    "# Recomendações\n",
    "# Escolher_Livro\n",
    "\n",
    "# Descobrir Livros Harry\n",
    "for posicao, titulo in enumerate(matriz.index):\n",
    "\n",
    "  # Harry\n",
    "  if 'Lord' in titulo:\n",
    "    print( posicao, titulo )"
   ]
  },
  {
   "cell_type": "code",
   "execution_count": 53,
   "id": "0fe9135c",
   "metadata": {
    "ExecuteTime": {
     "end_time": "2022-10-09T13:04:41.928875Z",
     "start_time": "2022-10-09T13:04:41.917882Z"
    }
   },
   "outputs": [
    {
     "name": "stdout",
     "output_type": "stream",
     "text": [
      "Index(['The Fellowship of the Ring (The Lord of the Rings, Part 1)',\n",
      "       'Harry Potter and the Prisoner of Azkaban (Book 3)',\n",
      "       'Harry Potter and the Goblet of Fire (Book 4)',\n",
      "       'Harry Potter and the Chamber of Secrets (Book 2)',\n",
      "       'Harry Potter and the Sorcerer's Stone (Book 1)'],\n",
      "      dtype='object', name='book_title')\n"
     ]
    }
   ],
   "source": [
    "# Seleionando o Livro ##### CLIENTE COMPROU !!!!!! ######\n",
    "selecionar_livro = matriz.iloc[ 216, :].values.reshape( 1, -1 )\n",
    "\n",
    "# Previsão do Modelo\n",
    "distancia, recomendacao = model.kneighbors( selecionar_livro )\n",
    "\n",
    "## AVALIAÇAO / RENTABILIDADE /  SERIES / NOTICIAS\n",
    "\n",
    "#### RECOMENDAÇÔES ######\n",
    "# Ver as sugestões\n",
    "for loop in range( len(recomendacao) ):\n",
    "\n",
    "    print( matriz.index[ recomendacao[loop] ] )"
   ]
  },
  {
   "cell_type": "code",
   "execution_count": 54,
   "id": "f14701ba",
   "metadata": {
    "ExecuteTime": {
     "end_time": "2022-10-09T13:04:41.943865Z",
     "start_time": "2022-10-09T13:04:41.930874Z"
    }
   },
   "outputs": [
    {
     "data": {
      "text/plain": [
       "array([[6.66133815e-16, 8.51552258e-01, 8.51690437e-01, 8.59838206e-01,\n",
       "        8.61384154e-01]])"
      ]
     },
     "execution_count": 54,
     "metadata": {},
     "output_type": "execute_result"
    }
   ],
   "source": [
    "distancia"
   ]
  },
  {
   "cell_type": "markdown",
   "id": "d86b38de",
   "metadata": {},
   "source": [
    "# 7.0 Testing System"
   ]
  },
  {
   "cell_type": "code",
   "execution_count": 55,
   "id": "10d187de",
   "metadata": {
    "ExecuteTime": {
     "end_time": "2022-10-09T13:04:42.081297Z",
     "start_time": "2022-10-09T13:04:41.946864Z"
    }
   },
   "outputs": [],
   "source": [
    "# Frameworks\n",
    "# Plotar a imagem\n",
    "import PIL\n",
    "import urllib\n",
    "import requests\n",
    "import matplotlib.image as mpimg"
   ]
  },
  {
   "cell_type": "code",
   "execution_count": 56,
   "id": "0fcad86a",
   "metadata": {
    "ExecuteTime": {
     "end_time": "2022-10-09T13:04:42.111278Z",
     "start_time": "2022-10-09T13:04:42.083295Z"
    }
   },
   "outputs": [
    {
     "data": {
      "text/html": [
       "<div>\n",
       "<style scoped>\n",
       "    .dataframe tbody tr th:only-of-type {\n",
       "        vertical-align: middle;\n",
       "    }\n",
       "\n",
       "    .dataframe tbody tr th {\n",
       "        vertical-align: top;\n",
       "    }\n",
       "\n",
       "    .dataframe thead th {\n",
       "        text-align: right;\n",
       "    }\n",
       "</style>\n",
       "<table border=\"1\" class=\"dataframe\">\n",
       "  <thead>\n",
       "    <tr style=\"text-align: right;\">\n",
       "      <th></th>\n",
       "      <th>isbn</th>\n",
       "      <th>book_title</th>\n",
       "      <th>book_author</th>\n",
       "      <th>year_of_publication</th>\n",
       "      <th>publisher</th>\n",
       "      <th>image_url_s</th>\n",
       "      <th>image_url_m</th>\n",
       "      <th>image_url_l</th>\n",
       "      <th>user_id</th>\n",
       "      <th>book_rating</th>\n",
       "      <th>location</th>\n",
       "      <th>age</th>\n",
       "      <th>country</th>\n",
       "      <th>age_group</th>\n",
       "      <th>count_rating</th>\n",
       "    </tr>\n",
       "  </thead>\n",
       "  <tbody>\n",
       "    <tr>\n",
       "      <th>0</th>\n",
       "      <td>0786868716</td>\n",
       "      <td>The Five People You Meet in Heaven</td>\n",
       "      <td>Mitch Albom</td>\n",
       "      <td>2003</td>\n",
       "      <td>Hyperion</td>\n",
       "      <td>http://images.amazon.com/images/P/0786868716.0...</td>\n",
       "      <td>http://images.amazon.com/images/P/0786868716.0...</td>\n",
       "      <td>http://images.amazon.com/images/P/0786868716.0...</td>\n",
       "      <td>11400</td>\n",
       "      <td>9</td>\n",
       "      <td>ottawa, ontario, canada</td>\n",
       "      <td>49.0</td>\n",
       "      <td>canada</td>\n",
       "      <td>adult</td>\n",
       "      <td>202</td>\n",
       "    </tr>\n",
       "    <tr>\n",
       "      <th>1</th>\n",
       "      <td>0786868716</td>\n",
       "      <td>The Five People You Meet in Heaven</td>\n",
       "      <td>Mitch Albom</td>\n",
       "      <td>2003</td>\n",
       "      <td>Hyperion</td>\n",
       "      <td>http://images.amazon.com/images/P/0786868716.0...</td>\n",
       "      <td>http://images.amazon.com/images/P/0786868716.0...</td>\n",
       "      <td>http://images.amazon.com/images/P/0786868716.0...</td>\n",
       "      <td>263325</td>\n",
       "      <td>8</td>\n",
       "      <td>fredericton, new brunswick, canada</td>\n",
       "      <td>27.0</td>\n",
       "      <td>canada</td>\n",
       "      <td>young</td>\n",
       "      <td>202</td>\n",
       "    </tr>\n",
       "    <tr>\n",
       "      <th>2</th>\n",
       "      <td>0786868716</td>\n",
       "      <td>The Five People You Meet in Heaven</td>\n",
       "      <td>Mitch Albom</td>\n",
       "      <td>2003</td>\n",
       "      <td>Hyperion</td>\n",
       "      <td>http://images.amazon.com/images/P/0786868716.0...</td>\n",
       "      <td>http://images.amazon.com/images/P/0786868716.0...</td>\n",
       "      <td>http://images.amazon.com/images/P/0786868716.0...</td>\n",
       "      <td>110912</td>\n",
       "      <td>10</td>\n",
       "      <td>milpitas, california, usa</td>\n",
       "      <td>36.0</td>\n",
       "      <td>usa</td>\n",
       "      <td>adult</td>\n",
       "      <td>202</td>\n",
       "    </tr>\n",
       "    <tr>\n",
       "      <th>3</th>\n",
       "      <td>0786868716</td>\n",
       "      <td>The Five People You Meet in Heaven</td>\n",
       "      <td>Mitch Albom</td>\n",
       "      <td>2003</td>\n",
       "      <td>Hyperion</td>\n",
       "      <td>http://images.amazon.com/images/P/0786868716.0...</td>\n",
       "      <td>http://images.amazon.com/images/P/0786868716.0...</td>\n",
       "      <td>http://images.amazon.com/images/P/0786868716.0...</td>\n",
       "      <td>7346</td>\n",
       "      <td>7</td>\n",
       "      <td>sunnyvale, california, usa</td>\n",
       "      <td>49.0</td>\n",
       "      <td>usa</td>\n",
       "      <td>adult</td>\n",
       "      <td>202</td>\n",
       "    </tr>\n",
       "    <tr>\n",
       "      <th>4</th>\n",
       "      <td>0786868716</td>\n",
       "      <td>The Five People You Meet in Heaven</td>\n",
       "      <td>Mitch Albom</td>\n",
       "      <td>2003</td>\n",
       "      <td>Hyperion</td>\n",
       "      <td>http://images.amazon.com/images/P/0786868716.0...</td>\n",
       "      <td>http://images.amazon.com/images/P/0786868716.0...</td>\n",
       "      <td>http://images.amazon.com/images/P/0786868716.0...</td>\n",
       "      <td>13552</td>\n",
       "      <td>9</td>\n",
       "      <td>cordova, tennessee, usa</td>\n",
       "      <td>32.0</td>\n",
       "      <td>usa</td>\n",
       "      <td>young</td>\n",
       "      <td>202</td>\n",
       "    </tr>\n",
       "  </tbody>\n",
       "</table>\n",
       "</div>"
      ],
      "text/plain": [
       "         isbn                          book_title  book_author  \\\n",
       "0  0786868716  The Five People You Meet in Heaven  Mitch Albom   \n",
       "1  0786868716  The Five People You Meet in Heaven  Mitch Albom   \n",
       "2  0786868716  The Five People You Meet in Heaven  Mitch Albom   \n",
       "3  0786868716  The Five People You Meet in Heaven  Mitch Albom   \n",
       "4  0786868716  The Five People You Meet in Heaven  Mitch Albom   \n",
       "\n",
       "   year_of_publication publisher  \\\n",
       "0                 2003  Hyperion   \n",
       "1                 2003  Hyperion   \n",
       "2                 2003  Hyperion   \n",
       "3                 2003  Hyperion   \n",
       "4                 2003  Hyperion   \n",
       "\n",
       "                                         image_url_s  \\\n",
       "0  http://images.amazon.com/images/P/0786868716.0...   \n",
       "1  http://images.amazon.com/images/P/0786868716.0...   \n",
       "2  http://images.amazon.com/images/P/0786868716.0...   \n",
       "3  http://images.amazon.com/images/P/0786868716.0...   \n",
       "4  http://images.amazon.com/images/P/0786868716.0...   \n",
       "\n",
       "                                         image_url_m  \\\n",
       "0  http://images.amazon.com/images/P/0786868716.0...   \n",
       "1  http://images.amazon.com/images/P/0786868716.0...   \n",
       "2  http://images.amazon.com/images/P/0786868716.0...   \n",
       "3  http://images.amazon.com/images/P/0786868716.0...   \n",
       "4  http://images.amazon.com/images/P/0786868716.0...   \n",
       "\n",
       "                                         image_url_l  user_id  book_rating  \\\n",
       "0  http://images.amazon.com/images/P/0786868716.0...    11400            9   \n",
       "1  http://images.amazon.com/images/P/0786868716.0...   263325            8   \n",
       "2  http://images.amazon.com/images/P/0786868716.0...   110912           10   \n",
       "3  http://images.amazon.com/images/P/0786868716.0...     7346            7   \n",
       "4  http://images.amazon.com/images/P/0786868716.0...    13552            9   \n",
       "\n",
       "                             location   age country age_group  count_rating  \n",
       "0             ottawa, ontario, canada  49.0  canada     adult           202  \n",
       "1  fredericton, new brunswick, canada  27.0  canada     young           202  \n",
       "2           milpitas, california, usa  36.0     usa     adult           202  \n",
       "3          sunnyvale, california, usa  49.0     usa     adult           202  \n",
       "4             cordova, tennessee, usa  32.0     usa     young           202  "
      ]
     },
     "execution_count": 56,
     "metadata": {},
     "output_type": "execute_result"
    }
   ],
   "source": [
    "df51.head()"
   ]
  },
  {
   "cell_type": "markdown",
   "id": "267642a5",
   "metadata": {},
   "source": [
    "## 7.1 Book Select"
   ]
  },
  {
   "cell_type": "code",
   "execution_count": 57,
   "id": "251dace2",
   "metadata": {
    "ExecuteTime": {
     "end_time": "2022-10-09T13:04:42.127268Z",
     "start_time": "2022-10-09T13:04:42.114276Z"
    }
   },
   "outputs": [],
   "source": [
    "# Filtrando o link da capa do Harry poter\n",
    "link = df51.loc[ df51['book_title'] == 'The Fellowship of the Ring (The Lord of the Rings, Part 1)' ].head(1)['image_url_l'].values[0]"
   ]
  },
  {
   "cell_type": "code",
   "execution_count": 58,
   "id": "e9a3b8e1",
   "metadata": {
    "ExecuteTime": {
     "end_time": "2022-10-09T13:04:42.607753Z",
     "start_time": "2022-10-09T13:04:42.130267Z"
    }
   },
   "outputs": [],
   "source": [
    "# Buscar as informações\n",
    "imagem = PIL.Image.open( urllib.request.urlopen( link ) )"
   ]
  },
  {
   "cell_type": "markdown",
   "id": "14fcb13c",
   "metadata": {},
   "source": [
    "## 7.2 List Recommendation Creation"
   ]
  },
  {
   "cell_type": "code",
   "execution_count": 59,
   "id": "f3dc3a7f",
   "metadata": {
    "ExecuteTime": {
     "end_time": "2022-10-09T13:04:42.654317Z",
     "start_time": "2022-10-09T13:04:42.612748Z"
    }
   },
   "outputs": [],
   "source": [
    "# Lista para receber os links das recomendações\n",
    "lista_url = []\n",
    "\n",
    "# Loop nas recomendações\n",
    "for loop in range( len(recomendacao) ):\n",
    "\n",
    "  # Filtro na matriz\n",
    "  selecao_loop = ( matriz.index[ recomendacao[loop] ] )\n",
    "\n",
    "  # Atribuindo a Lista\n",
    "  lista_url = selecao_loop\n",
    "    \n",
    "    \n",
    "# Filtrando o link das recomendações\n",
    "link_recomendao_01 = df51.loc[ df51['book_title'] == lista_url[1] ].head(1)['image_url_l'].values[0]\n",
    "link_recomendao_02 = df51.loc[ df51['book_title'] == lista_url[2] ].head(1)['image_url_l'].values[0]\n",
    "link_recomendao_03 = df51.loc[ df51['book_title'] == lista_url[3] ].head(1)['image_url_l'].values[0]\n",
    "link_recomendao_04 = df51.loc[ df51['book_title'] == lista_url[4] ].head(1)['image_url_l'].values[0]"
   ]
  },
  {
   "cell_type": "code",
   "execution_count": 60,
   "id": "7ad9af04",
   "metadata": {
    "ExecuteTime": {
     "end_time": "2022-10-09T13:04:43.185003Z",
     "start_time": "2022-10-09T13:04:42.656318Z"
    }
   },
   "outputs": [],
   "source": [
    "# atribuindo as imagens\n",
    "imagem_01 = PIL.Image.open( urllib.request.urlopen( link_recomendao_01 ) )\n",
    "imagem_02 = PIL.Image.open( urllib.request.urlopen( link_recomendao_02 ) )\n",
    "imagem_03 = PIL.Image.open( urllib.request.urlopen( link_recomendao_03 ) )\n",
    "imagem_04 = PIL.Image.open( urllib.request.urlopen( link_recomendao_04 ) )"
   ]
  },
  {
   "cell_type": "markdown",
   "id": "cd15fba8",
   "metadata": {},
   "source": [
    "## 7.3 List Recommendation Visualization"
   ]
  },
  {
   "cell_type": "code",
   "execution_count": 62,
   "id": "961aa76f",
   "metadata": {
    "ExecuteTime": {
     "end_time": "2022-10-09T13:20:09.754335Z",
     "start_time": "2022-10-09T13:20:09.740345Z"
    }
   },
   "outputs": [],
   "source": [
    "#titulos = ['Seleção', 'Recomendação 1', 'Recomendação 2', 'Recomendação 3', 'Recomendação 4']\n",
    "#\n",
    "## Criando a Figura\n",
    "#figura = make_subplots(\n",
    "#    rows=1,\n",
    "#    cols=5,\n",
    "#    subplot_titles=titulos\n",
    "#)\n",
    "#\n",
    "## Ajustando o layout\n",
    "#figura.update_layout(\n",
    "#    height=500,\n",
    "#    width=1200,\n",
    "#    title_text='Sistema de recomendação',\n",
    "#    showlegend=False\n",
    "#)\n",
    "#\n",
    "## Imagem da Seleção\n",
    "#figura.add_trace(\n",
    "#    Go.Image(\n",
    "#        z=imagem,\n",
    "#    ),\n",
    "#    row=1, col=1\n",
    "#)\n",
    "#\n",
    "## Imagem da Recomendação 1\n",
    "#figura.add_trace(\n",
    "#    Go.Image(\n",
    "#        z=imagem_01,\n",
    "#    ),\n",
    "#    row=1, col=2\n",
    "#)\n",
    "#\n",
    "## Imagem da Recomendação 2\n",
    "#figura.add_trace(\n",
    "#    Go.Image(\n",
    "#        z=imagem_02,\n",
    "#    ),\n",
    "#    row=1, col=3\n",
    "#)\n",
    "#\n",
    "## Imagem da Recomendação 3\n",
    "#figura.add_trace(\n",
    "#    Go.Image(\n",
    "#        z=imagem_03,\n",
    "#    ),\n",
    "#    row=1, col=4\n",
    "#)\n",
    "#\n",
    "## Imagem da Recomendação 4\n",
    "#figura.add_trace(\n",
    "#    Go.Image(\n",
    "#        z=imagem_04,\n",
    "#    ),\n",
    "#    row=1, col=5\n",
    "#)\n",
    "\n",
    "# Mostrar\n",
    "#figura.show()"
   ]
  },
  {
   "cell_type": "code",
   "execution_count": null,
   "id": "114f08fb",
   "metadata": {},
   "outputs": [],
   "source": []
  }
 ],
 "metadata": {
  "hide_input": false,
  "kernelspec": {
   "display_name": "Python 3 (ipykernel)",
   "language": "python",
   "name": "python3"
  },
  "language_info": {
   "codemirror_mode": {
    "name": "ipython",
    "version": 3
   },
   "file_extension": ".py",
   "mimetype": "text/x-python",
   "name": "python",
   "nbconvert_exporter": "python",
   "pygments_lexer": "ipython3",
   "version": "3.10.5"
  }
 },
 "nbformat": 4,
 "nbformat_minor": 5
}
